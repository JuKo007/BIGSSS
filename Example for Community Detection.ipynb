{
 "cells": [
  {
   "cell_type": "markdown",
   "metadata": {},
   "source": [
    "# Example for Community Detection"
   ]
  },
  {
   "cell_type": "code",
   "execution_count": null,
   "metadata": {},
   "outputs": [],
   "source": [
    "# Setup\n",
    "library(igraph)\n",
    "\n",
    "# importing network as graph object\n",
    "network <- read.csv(\"KegelClub Network.csv\", header = TRUE, row.names = 1)\n",
    "net <- graph.data.frame(network[,c(1,3,4)])\n",
    "\n",
    "# basic plot\n",
    "set.seed(123)\n",
    "plot(net, edge.arrow.size= 0.5)"
   ]
  },
  {
   "cell_type": "markdown",
   "metadata": {},
   "source": [
    " Wehn we look at the graph, we notice that the graph is not symmetric like the following one"
   ]
  },
  {
   "cell_type": "code",
   "execution_count": null,
   "metadata": {},
   "outputs": [],
   "source": [
    "# symmateic graph\n",
    "plot(make_lattice(c(5, 1, 5)))"
   ]
  },
  {
   "cell_type": "markdown",
   "metadata": {},
   "source": [
    "Rather, there seem to be very tight groups of friends that are connected via a few common friends"
   ]
  },
  {
   "cell_type": "markdown",
   "metadata": {},
   "source": [
    "Lets have a look at one of the tightly knit groups:\n",
    "\n",
    " - Anja\n",
    " - Heinz\n",
    " - Nadine\n",
    " - Wilhelm\n",
    " - Frank\n",
    " - Hermine"
   ]
  },
  {
   "cell_type": "code",
   "execution_count": null,
   "metadata": {},
   "outputs": [],
   "source": [
    "# lets only plot them and their relationships\n",
    "plot(subgraph(net,c(\"Anja\", \"Heinz\", \"Nadine\", \"Wilhelm\", \"Frank\", \"Hermine\")), main = \"Subgraph for Sub-group of close friends\")"
   ]
  },
  {
   "cell_type": "markdown",
   "metadata": {},
   "source": [
    "there are also other people that seem to be \"in between\" those clusters (e.g. Marlene or Adalbert)"
   ]
  },
  {
   "cell_type": "code",
   "execution_count": null,
   "metadata": {},
   "outputs": [],
   "source": [
    "# getting the names of all adjacent vertices to Marlene and Adalbert\n",
    "Var1 <- strsplit(names(unlist(adjacent_vertices(net,c(\"Marlene\",\"Adalbert\")))),\".\",fixed=T)\n",
    "Neighbors <- sapply(Var1,`[`,2) "
   ]
  },
  {
   "cell_type": "code",
   "execution_count": null,
   "metadata": {},
   "outputs": [],
   "source": [
    "# plotting Marlene, Adalbert and all of their connections\n",
    "plot(subgraph(net,c(\"Marlene\",\"Adalbert\",Neighbors)))"
   ]
  },
  {
   "cell_type": "markdown",
   "metadata": {},
   "source": [
    "Often, it can be of interest to identify clusters in networks and also the nodes\n",
    "that are connecting the different clusters with each other.\n",
    "\n",
    "The general, qualitative definition of a cluster in a network is:\n",
    "\n",
    "\"A set of nodes that have more connections among each other than with the rest of the network\""
   ]
  },
  {
   "cell_type": "markdown",
   "metadata": {},
   "source": [
    "There are multiple different ways to detect clusters in networks that all have applications in\n",
    "different context and are all mathematically complex.\n",
    "\n",
    "For this reason, we will not explain the algorithm(s) in detail. If you are interested, you can find more\n",
    "information about the algroithm that we will be using as an example here:\n",
    "\n",
    "https://arxiv.org/pdf/cond-mat/0308217.pdf"
   ]
  },
  {
   "cell_type": "markdown",
   "metadata": {},
   "source": [
    "### Clustering using the Cluster Edge Betweenness"
   ]
  },
  {
   "cell_type": "code",
   "execution_count": null,
   "metadata": {},
   "outputs": [],
   "source": [
    "# As an example, we can use the cluster edge betweenness algorithm\n",
    "# NOTE: This algorithm is only an example and only well defined for UNDIRECTED graphs,\n",
    "# therefore, we have to use an undirected version of our graph for this demonstration:\n",
    "\n",
    "net2 <- as.undirected(net)\n",
    "cnet <- cluster_edge_betweenness(net2)\n",
    "\n",
    "set.seed(123)\n",
    "plot(cnet,\n",
    "     net2,\n",
    "     vertex.size = 20,\n",
    "     edge.arrow.size = 0.5,\n",
    "     main = \"Clustering in the undirected KegelClub Network\")\n",
    "\n",
    "legend(\"bottomleft\",\n",
    "       legend = c(\"Inter-group connection\",\"Intra-group connection\"),\n",
    "       col = c(\"red\",\"black\"),\n",
    "       pch = 15,\n",
    "       bty = \"n\")"
   ]
  },
  {
   "cell_type": "code",
   "execution_count": null,
   "metadata": {},
   "outputs": [],
   "source": []
  }
 ],
 "metadata": {
  "kernelspec": {
   "display_name": "R",
   "language": "R",
   "name": "ir"
  },
  "language_info": {
   "codemirror_mode": "r",
   "file_extension": ".r",
   "mimetype": "text/x-r-source",
   "name": "R",
   "pygments_lexer": "r",
   "version": "3.4.3"
  }
 },
 "nbformat": 4,
 "nbformat_minor": 2
}
