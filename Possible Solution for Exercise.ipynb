{
 "cells": [
  {
   "cell_type": "markdown",
   "metadata": {},
   "source": [
    "# Possible Solution for Exercises"
   ]
  },
  {
   "cell_type": "code",
   "execution_count": null,
   "metadata": {},
   "outputs": [],
   "source": [
    "# importing igraph\n",
    "library(igraph)"
   ]
  },
  {
   "cell_type": "code",
   "execution_count": null,
   "metadata": {},
   "outputs": [],
   "source": [
    "# importing network as graph object\n",
    "network <- read.csv(\"KegelClub Network.csv\", header = TRUE, row.names = 1)\n",
    "net <- graph.data.frame(network[,c(1,3,4)])"
   ]
  },
  {
   "cell_type": "code",
   "execution_count": null,
   "metadata": {},
   "outputs": [],
   "source": [
    "# basic plot\n",
    "set.seed(123)\n",
    "plot(net)"
   ]
  },
  {
   "cell_type": "markdown",
   "metadata": {},
   "source": [
    "## Task 1 - Visually appealing graph"
   ]
  },
  {
   "cell_type": "code",
   "execution_count": null,
   "metadata": {},
   "outputs": [],
   "source": [
    "# creating gender and color indicators based on names\n",
    "V(net)"
   ]
  },
  {
   "cell_type": "code",
   "execution_count": null,
   "metadata": {},
   "outputs": [],
   "source": [
    "### creating gender and color indicators based on names\n",
    "\n",
    "# Inspecting Vertices\n",
    "V(net)\n",
    "\n",
    "# Creating new vertex attribute for gender\n",
    "V(net)$gender <- c(rep(\"male\",10),rep(\"female\",10))\n",
    "\n",
    "# inspecting gender attributes\n",
    "V(net)$gender\n",
    "\n",
    "# initializing new vertex attribute for vertex color\n",
    "V(net)$color <- seq_along(V(net)$gender)\n",
    "\n",
    "# \"translating\" gender attributes into color attributes\n",
    "V(net)$color[V(net)$gender == \"male\"] <- \"lightblue\"\n",
    "V(net)$color[V(net)$gender == \"female\"] <- \"lightcoral\"\n",
    "\n",
    "# inspecting color attributes\n",
    "V(net)$color"
   ]
  },
  {
   "cell_type": "code",
   "execution_count": null,
   "metadata": {},
   "outputs": [],
   "source": [
    "## Customizing our Network plot\n",
    "\n",
    "set.seed(123)\n",
    "plot(net,\n",
    "     main = \"KegelClub Network\",\n",
    "     vertex.size = 20,\n",
    "     vertex.color = V(net)$color,\n",
    "     vertex.frame.color = NA,\n",
    "     vertex.label.color = \"black\",\n",
    "     edge.arrow.size = 0.5,\n",
    "     edge.arrow.width = 0.75,\n",
    "     layout = layout.fruchterman.reingold)\n",
    "\n",
    "legend(\"topleft\",\n",
    "       legend = c(\"married\",\"has affair with\", \"has crush on\", \"friends with\"),\n",
    "       col = c(\"red4\",\"mediumvioletred\",\"lightpink\",\"lightblue3\"),\n",
    "       pch = 15,\n",
    "       bty = \"n\",\n",
    "       pt.cex = 2.5,\n",
    "       cex = 1.4 , \n",
    "       text.col = \"black\",\n",
    "       horiz = FALSE)"
   ]
  },
  {
   "cell_type": "markdown",
   "metadata": {},
   "source": [
    "## Task 2 & 3 - Calculating and visualizing Network Metrics"
   ]
  },
  {
   "cell_type": "markdown",
   "metadata": {},
   "source": [
    "### Egocentric Measures"
   ]
  },
  {
   "cell_type": "markdown",
   "metadata": {},
   "source": [
    "##### Degree"
   ]
  },
  {
   "cell_type": "code",
   "execution_count": null,
   "metadata": {},
   "outputs": [],
   "source": [
    "# Calculating total, in and out degree and assgning them as vertex attributes\n",
    "V(net)$degree <- degree(net)\n",
    "V(net)$degreeIN <- degree(net, mode = \"in\")\n",
    "V(net)$degreeOUT <- degree(net, mode = \"out\")\n",
    "\n",
    "# inspecting degree\n",
    "V(net)\n",
    "V(net)$degree\n",
    "V(net)$degreeIN\n",
    "V(net)$degreeOUT"
   ]
  },
  {
   "cell_type": "code",
   "execution_count": null,
   "metadata": {},
   "outputs": [],
   "source": [
    "# Histogram of total degree\n",
    "hist(V(net)$degree,\n",
    "     breaks = seq(5.5,18.5,1),\n",
    "     main = 'Histogram of total Node Degree',\n",
    "     ylab = 'Frequency',\n",
    "     xlab = 'Degree of Vertices')\n"
   ]
  },
  {
   "cell_type": "code",
   "execution_count": null,
   "metadata": {},
   "outputs": [],
   "source": [
    "# Histogram of In-degree\n",
    "hist(V(net)$degreeIN,\n",
    "     breaks = seq(2.5,9.5,1),\n",
    "     main = 'Histogram of Node In Degree',\n",
    "     ylab = 'Frequency',\n",
    "     xlab = 'Degree of Vertices')\n"
   ]
  },
  {
   "cell_type": "code",
   "execution_count": null,
   "metadata": {},
   "outputs": [],
   "source": [
    "# Histogram of Out-degree\n",
    "hist(V(net)$degreeOUT,\n",
    "     breaks = seq(2.5,9.5,1),\n",
    "     main = 'Histogram of total Node Out Degree',\n",
    "     ylab = 'Frequency',\n",
    "     xlab = 'Degree of Vertices')"
   ]
  },
  {
   "cell_type": "code",
   "execution_count": null,
   "metadata": {},
   "outputs": [],
   "source": [
    "# Plotting Network with Vertex size corresponding to total degree\n",
    "set.seed(123)\n",
    "plot(net,\n",
    "     main = \"Total Node Degree\",\n",
    "     vertex.size = V(net)$degree*1.5,\n",
    "     vertex.color = V(net)$color,\n",
    "     edge.arrow.size = 0.5)"
   ]
  },
  {
   "cell_type": "code",
   "execution_count": null,
   "metadata": {},
   "outputs": [],
   "source": [
    "# Plotting Network with Vertex size corresponding to in-degree\n",
    "set.seed(123)\n",
    "plot(net,\n",
    "     main = \"Total Node In Degree\",\n",
    "     vertex.size = V(net)$degreeIN*3,\n",
    "     vertex.color = V(net)$color,\n",
    "     edge.arrow.size = 0.5)"
   ]
  },
  {
   "cell_type": "code",
   "execution_count": null,
   "metadata": {},
   "outputs": [],
   "source": [
    "# Plotting Network with Vertex size corresponding to out-degree\n",
    "set.seed(123)\n",
    "plot(net,\n",
    "     main = \"Total Node Out Degree\",\n",
    "     vertex.size = V(net)$degreeOUT*3,\n",
    "     vertex.color = V(net)$color,\n",
    "     edge.arrow.size = 0.5)"
   ]
  },
  {
   "cell_type": "code",
   "execution_count": null,
   "metadata": {},
   "outputs": [],
   "source": [
    "# Plotting Network with Vertex size corresponding to ratio of in to out degree\n",
    "set.seed(123)\n",
    "plot(net,\n",
    "     main = \"Ratio of In/out Degree\",\n",
    "     vertex.size = (V(net)$degreeIN/V(net)$degreeOUT)*15,\n",
    "     vertex.color = V(net)$color,\n",
    "     edge.arrow.size = 0.5)"
   ]
  },
  {
   "cell_type": "markdown",
   "metadata": {},
   "source": [
    "##### Closeness Centrality"
   ]
  },
  {
   "cell_type": "markdown",
   "metadata": {},
   "source": [
    "NOTE: we will treat the network as undirected for this measure for easier implementation"
   ]
  },
  {
   "cell_type": "code",
   "execution_count": null,
   "metadata": {},
   "outputs": [],
   "source": [
    "# computing closeness and saving it as vertex attribute\n",
    "V(net)$CC <- closeness(net, mode='out')\n",
    "V(net)$CC"
   ]
  },
  {
   "cell_type": "code",
   "execution_count": null,
   "metadata": {},
   "outputs": [],
   "source": [
    "# summary of the scores\n",
    "summary(V(net)$CC)"
   ]
  },
  {
   "cell_type": "code",
   "execution_count": null,
   "metadata": {},
   "outputs": [],
   "source": [
    "# histogram\n",
    "hist(closeness(net, mode='all',normalized = F),\n",
    "     breaks = seq(-0.005,0.035,0.001),\n",
    "     main = 'Histogram of Node Closeness Centrality',\n",
    "     ylab = 'Frequency',\n",
    "     xlab = 'Closeness')"
   ]
  },
  {
   "cell_type": "code",
   "execution_count": null,
   "metadata": {},
   "outputs": [],
   "source": [
    "# network plot with closeness centrality being represented as node size\n",
    "set.seed(123)\n",
    "plot(net,\n",
    "     main = \"Closeness Centrality\",\n",
    "     vertex.size = closeness(net, mode='all',normalized = F)*600,\n",
    "     vertex.color = V(net)$color,\n",
    "     edge.arrow.size = 0.5)"
   ]
  },
  {
   "cell_type": "markdown",
   "metadata": {},
   "source": [
    "##### Betweenness Centrality"
   ]
  },
  {
   "cell_type": "code",
   "execution_count": null,
   "metadata": {},
   "outputs": [],
   "source": [
    "# computing betweenness and saving it as vertex parameter\n",
    "V(net)$BC <- betweenness(net)\n",
    "V(net)$BC"
   ]
  },
  {
   "cell_type": "code",
   "execution_count": null,
   "metadata": {},
   "outputs": [],
   "source": [
    "# summary\n",
    "summary(V(net)$BC)"
   ]
  },
  {
   "cell_type": "code",
   "execution_count": null,
   "metadata": {},
   "outputs": [],
   "source": [
    "# histogram\n",
    "hist(V(net)$BC,\n",
    "     main = \"Histogram of Node Betweenness\",\n",
    "     breaks = seq(-2.5,97.5,5),\n",
    "     xlab = \"Node Betweenness Centrality\")"
   ]
  },
  {
   "cell_type": "code",
   "execution_count": null,
   "metadata": {},
   "outputs": [],
   "source": [
    "# network plot\n",
    "set.seed(123)\n",
    "plot(net,\n",
    "     main = \"Betweenness Centrality\",\n",
    "     vertex.size = betweenness(net)/3,\n",
    "     vertex.color = V(net)$color,\n",
    "     edge.arrow.size = 0.5)"
   ]
  },
  {
   "cell_type": "markdown",
   "metadata": {},
   "source": [
    "##### Page Rank"
   ]
  },
  {
   "cell_type": "code",
   "execution_count": null,
   "metadata": {},
   "outputs": [],
   "source": [
    "# calculating page rank and saving it as vertex attribute\n",
    "V(net)$PR <- page.rank(net)$vector\n",
    "V(net)$PR"
   ]
  },
  {
   "cell_type": "code",
   "execution_count": null,
   "metadata": {},
   "outputs": [],
   "source": [
    "# summary\n",
    "summary(V(net)$PR)"
   ]
  },
  {
   "cell_type": "code",
   "execution_count": null,
   "metadata": {},
   "outputs": [],
   "source": [
    "# histogram\n",
    "hist(V(net)$PR,\n",
    "     breaks = seq(-0.005,0.105,0.01),\n",
    "     main = \"Histogram for distribution of page rank scores\")"
   ]
  },
  {
   "cell_type": "code",
   "execution_count": null,
   "metadata": {},
   "outputs": [],
   "source": [
    "# Network plot\n",
    "set.seed(123)\n",
    "plot(net,\n",
    "     main = \"Pagerank\",\n",
    "     vertex.size = V(net)$PR*300,\n",
    "     vertex.color = V(net)$color,\n",
    "     edge.arrow.size = 0.5)"
   ]
  },
  {
   "cell_type": "markdown",
   "metadata": {},
   "source": [
    "### Sociocentric Metrics"
   ]
  },
  {
   "cell_type": "markdown",
   "metadata": {},
   "source": [
    "##### Diameter"
   ]
  },
  {
   "cell_type": "code",
   "execution_count": null,
   "metadata": {},
   "outputs": [],
   "source": [
    "# diameter (longest possible path)\n",
    "diameter(net)"
   ]
  },
  {
   "cell_type": "markdown",
   "metadata": {},
   "source": [
    "##### Edge Density"
   ]
  },
  {
   "cell_type": "code",
   "execution_count": null,
   "metadata": {},
   "outputs": [],
   "source": [
    "# edge denssity (proportion of existing edges to all theoretically posisible edges)\n",
    "edge_density(net)"
   ]
  },
  {
   "cell_type": "markdown",
   "metadata": {},
   "source": [
    "##### Reciprocity"
   ]
  },
  {
   "cell_type": "code",
   "execution_count": null,
   "metadata": {},
   "outputs": [],
   "source": [
    "# Reciprocity (proportion of reciprocated edges to all existing edges)\n",
    "reciprocity(net)"
   ]
  },
  {
   "cell_type": "markdown",
   "metadata": {},
   "source": [
    "## Task 4 - Visualizing different aspects of the Network"
   ]
  },
  {
   "cell_type": "code",
   "execution_count": null,
   "metadata": {},
   "outputs": [],
   "source": [
    "# visulaizing only friendships\n",
    "\n",
    "# Creating a subgraph containing only the Friendship edges and the respective vertices\n",
    "FriendNet <- subgraph.edges(net,E(net)[E(net)$color == \"grey\"])\n",
    "\n",
    "\n",
    "# plotting the new object\n",
    "set.seed(123)\n",
    "plot(FriendNet,\n",
    "     main = \"KegelClub Friendship Network\",\n",
    "     vertex.size = 20,\n",
    "     vertex.color = V(FriendNet)$color,\n",
    "     vertex.frame.color = NA,\n",
    "     vertex.label.color = \"black\",\n",
    "     edge.arrow.size = 0.5,\n",
    "     edge.arrow.width = 0.75,\n",
    "     layout = layout.fruchterman.reingold)"
   ]
  },
  {
   "cell_type": "code",
   "execution_count": null,
   "metadata": {},
   "outputs": [],
   "source": [
    "# visulaizing only marriages\n",
    "\n",
    "# Creating a subgraph containing only the Friendship edges and the respective vertices\n",
    "MarriageNet <- subgraph.edges(net,E(net)[E(net)$color == \"red4\"])\n",
    "\n",
    "\n",
    "# plotting the new object\n",
    "set.seed(123)\n",
    "plot(MarriageNet,\n",
    "     main = \"KegelClub Marriage Network\",\n",
    "     vertex.size = 20,\n",
    "     vertex.color = V(MarriageNet)$color,\n",
    "     vertex.frame.color = NA,\n",
    "     vertex.label.color = \"black\",\n",
    "     edge.arrow.size = 0.5,\n",
    "     edge.arrow.width = 0.75,\n",
    "     layout = layout.fruchterman.reingold)"
   ]
  },
  {
   "cell_type": "code",
   "execution_count": null,
   "metadata": {},
   "outputs": [],
   "source": [
    "# visulaizing all romantic interests\n",
    "\n",
    "# Creating a subgraph containing only the Friendship edges and the respective vertices\n",
    "RomanticNet <- subgraph.edges(net,E(net)[E(net)$color == \"red4\" | E(net)$color == \"lightpink\" | E(net)$color == \"mediumvioletred\"])\n",
    "\n",
    "# plotting the new object\n",
    "set.seed(123)\n",
    "plot(RomanticNet,\n",
    "     main = \"KegelClub Network of romantic Interests\",\n",
    "     vertex.size = 20,\n",
    "     vertex.color = V(RomanticNet)$color,\n",
    "     vertex.frame.color = NA,\n",
    "     vertex.label.color = \"black\",\n",
    "     edge.arrow.size = 0.5,\n",
    "     edge.arrow.width = 0.75,\n",
    "     layout = layout.fruchterman.reingold)"
   ]
  }
 ],
 "metadata": {
  "kernelspec": {
   "display_name": "R",
   "language": "R",
   "name": "ir"
  },
  "language_info": {
   "codemirror_mode": "r",
   "file_extension": ".r",
   "mimetype": "text/x-r-source",
   "name": "R",
   "pygments_lexer": "r",
   "version": "3.4.4"
  }
 },
 "nbformat": 4,
 "nbformat_minor": 2
}
