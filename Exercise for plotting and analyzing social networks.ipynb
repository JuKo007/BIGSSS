{
 "cells": [
  {
   "cell_type": "markdown",
   "metadata": {},
   "source": [
    "> # Plotting and analyzing Social Networks"
   ]
  },
  {
   "cell_type": "markdown",
   "metadata": {},
   "source": [
    "In the first tutorial, we learned the basics of plotting and analyzing social networks by using\n",
    "a very simple network of only four people.\n",
    "Lets step up our game by applying what we learned to a bigger and more complex network!"
   ]
  },
  {
   "cell_type": "code",
   "execution_count": 1,
   "metadata": {},
   "outputs": [
    {
     "name": "stderr",
     "output_type": "stream",
     "text": [
      "Warning message:\n",
      "\"package 'igraph' was built under R version 3.4.4\"\n",
      "Attaching package: 'igraph'\n",
      "\n",
      "The following objects are masked from 'package:stats':\n",
      "\n",
      "    decompose, spectrum\n",
      "\n",
      "The following object is masked from 'package:base':\n",
      "\n",
      "    union\n",
      "\n"
     ]
    }
   ],
   "source": [
    "# First we need to import the igraph library again\n",
    "library(igraph)"
   ]
  },
  {
   "cell_type": "markdown",
   "metadata": {},
   "source": [
    "Lets use a network that is a bit more interesting!\n",
    "For example, we could model the social relationships within a \"KegelClub\" (\"Kegeln\" is the German and boring Version of Bowling).\n",
    "\n",
    "We prepared a fictional network for you that you can just import"
   ]
  },
  {
   "cell_type": "code",
   "execution_count": 17,
   "metadata": {},
   "outputs": [],
   "source": [
    "network <- read.csv(\"KegelClub Network.csv\", header = TRUE,row.names = 1)"
   ]
  },
  {
   "cell_type": "markdown",
   "metadata": {},
   "source": [
    "Lets have a look at the first couple of rows in our dataframe"
   ]
  },
  {
   "cell_type": "code",
   "execution_count": 18,
   "metadata": {},
   "outputs": [
    {
     "data": {
      "text/html": [
       "<table>\n",
       "<thead><tr><th scope=col>Sender</th><th scope=col>Type</th><th scope=col>Recipient</th><th scope=col>color</th></tr></thead>\n",
       "<tbody>\n",
       "\t<tr><td>Frank     </td><td>married to</td><td>Hermine   </td><td>red4      </td></tr>\n",
       "\t<tr><td>Walter    </td><td>married to</td><td>Lisa      </td><td>red4      </td></tr>\n",
       "\t<tr><td>Ingo      </td><td>married to</td><td>Franziska </td><td>red4      </td></tr>\n",
       "\t<tr><td>Herbert   </td><td>married to</td><td>Emilie    </td><td>red4      </td></tr>\n",
       "\t<tr><td>Bob       </td><td>married to</td><td>Paula     </td><td>red4      </td></tr>\n",
       "\t<tr><td>Heinz     </td><td>married to</td><td>Nadine    </td><td>red4      </td></tr>\n",
       "\t<tr><td>Wilhelm   </td><td>married to</td><td>Anja      </td><td>red4      </td></tr>\n",
       "\t<tr><td>Heinrich  </td><td>married to</td><td>Lena      </td><td>red4      </td></tr>\n",
       "\t<tr><td>Josef     </td><td>married to</td><td>Anika     </td><td>red4      </td></tr>\n",
       "\t<tr><td>Adalbert  </td><td>married to</td><td>Marlene   </td><td>red4      </td></tr>\n",
       "</tbody>\n",
       "</table>\n"
      ],
      "text/latex": [
       "\\begin{tabular}{r|llll}\n",
       " Sender & Type & Recipient & color\\\\\n",
       "\\hline\n",
       "\t Frank      & married to & Hermine    & red4      \\\\\n",
       "\t Walter     & married to & Lisa       & red4      \\\\\n",
       "\t Ingo       & married to & Franziska  & red4      \\\\\n",
       "\t Herbert    & married to & Emilie     & red4      \\\\\n",
       "\t Bob        & married to & Paula      & red4      \\\\\n",
       "\t Heinz      & married to & Nadine     & red4      \\\\\n",
       "\t Wilhelm    & married to & Anja       & red4      \\\\\n",
       "\t Heinrich   & married to & Lena       & red4      \\\\\n",
       "\t Josef      & married to & Anika      & red4      \\\\\n",
       "\t Adalbert   & married to & Marlene    & red4      \\\\\n",
       "\\end{tabular}\n"
      ],
      "text/markdown": [
       "\n",
       "Sender | Type | Recipient | color | \n",
       "|---|---|---|---|---|---|---|---|---|---|\n",
       "| Frank      | married to | Hermine    | red4       | \n",
       "| Walter     | married to | Lisa       | red4       | \n",
       "| Ingo       | married to | Franziska  | red4       | \n",
       "| Herbert    | married to | Emilie     | red4       | \n",
       "| Bob        | married to | Paula      | red4       | \n",
       "| Heinz      | married to | Nadine     | red4       | \n",
       "| Wilhelm    | married to | Anja       | red4       | \n",
       "| Heinrich   | married to | Lena       | red4       | \n",
       "| Josef      | married to | Anika      | red4       | \n",
       "| Adalbert   | married to | Marlene    | red4       | \n",
       "\n",
       "\n"
      ],
      "text/plain": [
       "   Sender   Type       Recipient color\n",
       "1  Frank    married to Hermine   red4 \n",
       "2  Walter   married to Lisa      red4 \n",
       "3  Ingo     married to Franziska red4 \n",
       "4  Herbert  married to Emilie    red4 \n",
       "5  Bob      married to Paula     red4 \n",
       "6  Heinz    married to Nadine    red4 \n",
       "7  Wilhelm  married to Anja      red4 \n",
       "8  Heinrich married to Lena      red4 \n",
       "9  Josef    married to Anika     red4 \n",
       "10 Adalbert married to Marlene   red4 "
      ]
     },
     "metadata": {},
     "output_type": "display_data"
    }
   ],
   "source": [
    "# displaying first 10 rows of dataframe\n",
    "head(network,10)"
   ]
  },
  {
   "cell_type": "markdown",
   "metadata": {},
   "source": [
    " We now need to transform the dataframe into a graph object"
   ]
  },
  {
   "cell_type": "code",
   "execution_count": 19,
   "metadata": {},
   "outputs": [],
   "source": [
    "# making a graph object out of the dataframe (we only need to use the first, third and fourth column of the dataframe)\n",
    "net <- graph.data.frame(network[,c(1,3,4)], directed=T)"
   ]
  },
  {
   "cell_type": "markdown",
   "metadata": {},
   "source": [
    "Lets create a basic plot to have a first glance at our network"
   ]
  },
  {
   "cell_type": "code",
   "execution_count": 20,
   "metadata": {},
   "outputs": [
    {
     "data": {
      "image/png": "iVBORw0KGgoAAAANSUhEUgAAA0gAAANICAMAAADKOT/pAAAA6lBMVEUAAAAAADgAAEMAAEwA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\nAJEAIAAiAUDA/wfryGLL0kxc6QAAAABJRU5ErkJggg==",
      "text/plain": [
       "Plot with title \"\""
      ]
     },
     "metadata": {},
     "output_type": "display_data"
    }
   ],
   "source": [
    "# Default Plot (the color attribute is automatically detected as the edge color)\n",
    "set.seed(123)\n",
    "plot(net, edge.arrow.size= 0.5)"
   ]
  },
    {
   "cell_type": "code",
   "execution_count": 19,
   "metadata": {},
   "outputs": [],
   "source": [
    "legend("topleft",
       legend = c("married","has affair with", "has crush on", "friends with"),
       col = c("red4","mediumvioletred","lightpink","lightblue3"),
       pch = 15,
       bty = "n",
       pt.cex = 2.5,
       cex = 1.4 , 
       text.col = "black",
       horiz = FALSE)"]
  }
  {
   "cell_type": "markdown",
   "metadata": {},
   "source": [
    "## Tasks: You can use what we learned so far to work with this network\n",
    "\n",
    "1. Plot the network in a visually appealing way\n",
    "\n",
    "2. Compute egocentric and sociocentric metrics for the analysis of this network\n",
    "\n",
    "3. You can use the plotting options to visualize metrics of the network, for example make the size or color of a vertex depend on their degree, closeness centrality or betweenness centrality\n",
    "\n",
    "4. Visualize different aspects of the relationships in the network by comparing different layers of relationships(e.g. friendships vs. romantic interests)\n"
   ]
  },
  {
   "cell_type": "code",
   "execution_count": null,
   "metadata": {},
   "outputs": [],
   "source": []
  },
  {
   "cell_type": "code",
   "execution_count": null,
   "metadata": {},
   "outputs": [],
   "source": []
  },
  {
   "cell_type": "code",
   "execution_count": null,
   "metadata": {},
   "outputs": [],
   "source": []
  },
  {
   "cell_type": "code",
   "execution_count": null,
   "metadata": {},
   "outputs": [],
   "source": []
  },
  {
   "cell_type": "code",
   "execution_count": null,
   "metadata": {},
   "outputs": [],
   "source": []
  },
  {
   "cell_type": "code",
   "execution_count": null,
   "metadata": {},
   "outputs": [],
   "source": []
  },
  {
   "cell_type": "code",
   "execution_count": null,
   "metadata": {},
   "outputs": [],
   "source": []
  },
  {
   "cell_type": "code",
   "execution_count": null,
   "metadata": {},
   "outputs": [],
   "source": []
  },
  {
   "cell_type": "code",
   "execution_count": null,
   "metadata": {},
   "outputs": [],
   "source": []
  },
  {
   "cell_type": "code",
   "execution_count": null,
   "metadata": {},
   "outputs": [],
   "source": []
  },
  {
   "cell_type": "code",
   "execution_count": null,
   "metadata": {},
   "outputs": [],
   "source": []
  },
  {
   "cell_type": "code",
   "execution_count": null,
   "metadata": {},
   "outputs": [],
   "source": []
  },
  {
   "cell_type": "code",
   "execution_count": null,
   "metadata": {},
   "outputs": [],
   "source": []
  },
  {
   "cell_type": "code",
   "execution_count": null,
   "metadata": {},
   "outputs": [],
   "source": []
  },
  {
   "cell_type": "code",
   "execution_count": null,
   "metadata": {},
   "outputs": [],
   "source": []
  },
  {
   "cell_type": "code",
   "execution_count": null,
   "metadata": {},
   "outputs": [],
   "source": []
  },
  {
   "cell_type": "code",
   "execution_count": null,
   "metadata": {},
   "outputs": [],
   "source": []
  },
  {
   "cell_type": "code",
   "execution_count": null,
   "metadata": {},
   "outputs": [],
   "source": []
  },
  {
   "cell_type": "code",
   "execution_count": null,
   "metadata": {},
   "outputs": [],
   "source": []
  },
  {
   "cell_type": "code",
   "execution_count": null,
   "metadata": {},
   "outputs": [],
   "source": []
  },
  {
   "cell_type": "code",
   "execution_count": null,
   "metadata": {},
   "outputs": [],
   "source": []
  },
  {
   "cell_type": "code",
   "execution_count": null,
   "metadata": {},
   "outputs": [],
   "source": []
  },
  {
   "cell_type": "code",
   "execution_count": null,
   "metadata": {},
   "outputs": [],
   "source": []
  }
 ],
 "metadata": {
  "kernelspec": {
   "display_name": "R",
   "language": "R",
   "name": "ir"
  },
  "language_info": {
   "codemirror_mode": "r",
   "file_extension": ".r",
   "mimetype": "text/x-r-source",
   "name": "R",
   "pygments_lexer": "r",
   "version": "3.4.3"
  }
 },
 "nbformat": 4,
 "nbformat_minor": 2
}
