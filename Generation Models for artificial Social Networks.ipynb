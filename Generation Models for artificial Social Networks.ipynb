{
 "cells": [
  {
   "cell_type": "markdown",
   "metadata": {},
   "source": [
    "# Generation Models for artificial Social Networks"
   ]
  },
  {
   "cell_type": "code",
   "execution_count": null,
   "metadata": {},
   "outputs": [],
   "source": [
    "# loading igraph\n",
    "library(igraph)\n",
    "\n",
    "# loading the random names library\n",
    "library(randomNames)"
   ]
  },
  {
   "cell_type": "markdown",
   "metadata": {},
   "source": [
    "### Generating (Social) Networks"
   ]
  },
  {
   "cell_type": "markdown",
   "metadata": {},
   "source": [
    "In the Social Sciences, we often follow the approach of collecting data on social networks and then analyze\n",
    "them to learn something about the mechanisms by which groups form or evolve.\n",
    "\n",
    "Another approach that is more often used in social physics and computer science is to generate artificial networks\n",
    "according to specific criteria to:\n",
    "\n",
    "- run simulations about processes within networks\n",
    "- do experiments by changing parameters in the artificial networks\n",
    "- investigate the processes by which groups form by formalizing social science principles into mathematical models\n"
   ]
  },
  {
   "cell_type": "markdown",
   "metadata": {},
   "source": [
    "there are multiple different network structures that are already built into igraph:"
   ]
  },
  {
   "cell_type": "code",
   "execution_count": null,
   "metadata": {},
   "outputs": [],
   "source": [
    " # a graph of x vertices where all vertices are connected to all other vertices\n",
    "g <- make_full_graph(10)\n",
    "plot(g)"
   ]
  },
  {
   "cell_type": "code",
   "execution_count": null,
   "metadata": {},
   "outputs": [],
   "source": [
    "# a graph in a lattice structure\n",
    "g <- make_lattice(c(5, 1, 5))\n",
    "plot(g)"
   ]
  },
  {
   "cell_type": "code",
   "execution_count": null,
   "metadata": {},
   "outputs": [],
   "source": [
    "# a graph in a ring structure\n",
    "g <- make_ring(10)\n",
    "plot(g)"
   ]
  },
  {
   "cell_type": "code",
   "execution_count": null,
   "metadata": {},
   "outputs": [],
   "source": [
    "# a graph in a star structure\n",
    "g <- make_star(10)\n",
    "plot(g)"
   ]
  },
  {
   "cell_type": "code",
   "execution_count": null,
   "metadata": {},
   "outputs": [],
   "source": [
    "# a graph in a tree structure\n",
    "g <- make_tree(40,3)\n",
    "plot(g)"
   ]
  },
  {
   "cell_type": "markdown",
   "metadata": {},
   "source": [
    "The problem with these simple built-in structures is however, that they do not resample what real social networks look like because they are too structured, are missing random processes,do not exhibit clustering and do not form according to the mechanisms that play a role in the formation of human social networks.\n",
    "\n",
    "Ideally, we would have an algorithm for generation artificial social networks that very closely mimicks they way in which real networks form"
   ]
  },
  {
   "cell_type": "markdown",
   "metadata": {},
   "source": [
    "#### Adding the Random Element: Erdos-Renyi graphs"
   ]
  },
  {
   "cell_type": "markdown",
   "metadata": {},
   "source": [
    "In an Erdos-Renyi graph, we can specifiy a probability and each possible edge is created with that probability.\n",
    "For example, for an erdos-renyi (or random) graph with probability 0.3, each possible edge is created with a probaility of\n",
    "30%. This adds a random element to the generation of the graph and two erdos-renyi graphs with the same starting parameters\n",
    "can look very different based on chance."
   ]
  },
  {
   "cell_type": "code",
   "execution_count": null,
   "metadata": {},
   "outputs": [],
   "source": [
    "# To create an Erdos-renyi graph, we first create a full graph containing all possible connections between vertices.\n",
    "FullGraph <- make_full_graph(10)\n",
    "plot(FullGraph)"
   ]
  },
  {
   "cell_type": "code",
   "execution_count": null,
   "metadata": {},
   "outputs": [],
   "source": [
    "# We then define the percentage of connections that should remain in the graph\n",
    "p = 0.3"
   ]
  },
  {
   "cell_type": "code",
   "execution_count": null,
   "metadata": {},
   "outputs": [],
   "source": [
    "# We randomly sample a proportion of all edges with probability 1-p and form a vector of edges to be deleted\n",
    "set.seed(123)\n",
    "DeletedEdges <- sample(E(FullGraph),(round((1-p)*ecount(FullGraph),0)))"
   ]
  },
  {
   "cell_type": "code",
   "execution_count": null,
   "metadata": {},
   "outputs": [],
   "source": [
    "# We create a graph containing only the leftover edges by deleting all other edges\n",
    "ErdosRenyi <- delete_edges(FullGraph, DeletedEdges)"
   ]
  },
  {
   "cell_type": "code",
   "execution_count": null,
   "metadata": {},
   "outputs": [],
   "source": [
    "# plotting the graph\n",
    "set.seed(123)\n",
    "plot(ErdosRenyi)"
   ]
  },
  {
   "cell_type": "code",
   "execution_count": null,
   "metadata": {},
   "outputs": [],
   "source": [
    "## igraph also has a built-in function for creating Erdos-Renyi graphs\n",
    "set.seed(123)\n",
    "ErdosRenyi <- sample_gnp(10,0.3)\n",
    "\n",
    "set.seed(123)\n",
    "plot(ErdosRenyi)"
   ]
  },
  {
   "cell_type": "markdown",
   "metadata": {},
   "source": [
    "#### Adding preferential Attachment: Barabasi-Albert graphs"
   ]
  },
  {
   "cell_type": "markdown",
   "metadata": {},
   "source": [
    "the idea behind the Barabasi-Albert algorithm is that the probability that a new node will form a connection with each of the existing nodes depends on how many connections the existing nodes already have. \n",
    "The more connections the node already has, the more likely it is to form a connection with the new node aswell.\n",
    "\n",
    "In social science terms, one could say that the new nodes \"prefer\" nodes that are already \"popular\".\n",
    "\n",
    "This is a frequent finding in many observed social network: There are many nodes with relatively few connections\n",
    "but a few nodes with very many connection"
   ]
  },
  {
   "cell_type": "code",
   "execution_count": null,
   "metadata": {},
   "outputs": [],
   "source": [
    "# The algorithm works by starting out with a basic network structure:\n",
    "net <- g\n",
    "set.seed(123)\n",
    "plot(net)"
   ]
  },
  {
   "cell_type": "code",
   "execution_count": null,
   "metadata": {},
   "outputs": [],
   "source": [
    "# then a new node is added to the graph\n",
    "set.seed(123)\n",
    "plot(net + vertex(\"Newbie\"))"
   ]
  },
  {
   "cell_type": "markdown",
   "metadata": {},
   "source": [
    "To understand the algorithm, we need to express the idea of preferential attachment in mathematical terms:\n",
    "\n",
    "Lets have a look at the degrees of all the nodes"
   ]
  },
  {
   "cell_type": "code",
   "execution_count": null,
   "metadata": {},
   "outputs": [],
   "source": [
    "#we can get a vector of the degree of all nodes in the network like this:\n",
    "degree(net)"
   ]
  },
  {
   "cell_type": "code",
   "execution_count": null,
   "metadata": {},
   "outputs": [],
   "source": [
    "# if we sum these degrees we get a number that corresponds to twice the amount of all edges in the network\n",
    "sum(degree(net))\n",
    "length(E(net))*2 == sum(degree(net))"
   ]
  },
  {
   "cell_type": "code",
   "execution_count": null,
   "metadata": {},
   "outputs": [],
   "source": [
    "# we can now compute the probability for the Newbie to form a connection to any given node by dividing each nodes degree by the sum\n",
    "# of the degrees of all nodes\n",
    "\n",
    "EdgeFormProb <- degree(net)/sum(degree(net))\n",
    "EdgeFormProb"
   ]
  },
  {
   "cell_type": "code",
   "execution_count": null,
   "metadata": {},
   "outputs": [],
   "source": [
    "# computing the probability in this way is neat, because the sum of all probabilites equals 100%\n",
    "# which means that the new node will make a connection to a node from the network\n",
    "sum(EdgeFormProb)"
   ]
  },
  {
   "cell_type": "markdown",
   "metadata": {},
   "source": [
    "To understand the algorithm better and visualize its progression, lets code our own function\n",
    "to add new nodes to a network.\n",
    "\n",
    "The function should take a network as input, take a parameter m as input that determines to\n",
    "how many existing nodes a new nodes will connect and should output a network with a new node\n",
    "added based on the preferential attachment probability measure."
   ]
  },
  {
   "cell_type": "code",
   "execution_count": null,
   "metadata": {},
   "outputs": [],
   "source": [
    "BarabasiAlbert <-function(network, m = 2){\n",
    "        \n",
    "        # m needs to be larger than one but smaller or equal to the number of nodes in the initial network\n",
    "        if(m < 1 | m > length(V(network))){\n",
    "                \n",
    "                print(\"m needs to be larger than one but smaller or equal to the number of nodes in the initial network\")\n",
    "                stop()\n",
    "        }\n",
    "        \n",
    "        \n",
    "        # First, we need to generate a random name for the new node\n",
    "        NewNodeName <- randomNames(1,which.names=\"first\")\n",
    "        \n",
    "        # Then we check the validity of the name. It must not contain special characters and should not already be used\n",
    "        # in the network. If this is the case, the loop below will redraw random names until we get a valid one\n",
    "        while(grepl('[^[:alnum:]]', NewNodeName) == TRUE | is.element(NewNodeName,names(V(network))) == TRUE){\n",
    "                \n",
    "                NewNodeName <- randomNames(1,which.names=\"first\")\n",
    "                \n",
    "        }\n",
    "        \n",
    "        # Now, we are calculating the probability of forming new connections to existing nodes in the network. We get a vector of probabilites\n",
    "        EdgeFormProb <- degree(network)/sum(degree(network))\n",
    "        \n",
    "        # We are using a roulette wheel selection approach by repeating node names as many times as their degree and then sample m times\n",
    "        # with replacement from the resulting vector\n",
    "        Roulette <- rep(V(network),degree(network))\n",
    "        SpinResult <- names(sample(Roulette,m, replace = TRUE))\n",
    "        \n",
    "        # Because we could draw the same name twice now, we have to repeat the \"spin\" until we have m different names\n",
    "        while(length(SpinResult) != length(unique(SpinResult))){\n",
    "                \n",
    "                Roulette <- rep(V(network),degree(network))\n",
    "                SpinResult <- names(sample(Roulette,m, replace = TRUE))\n",
    "        }\n",
    "                \n",
    "        # forming a vector of edges for the node to be added\n",
    "        NewSenders <- rep(NewNodeName,length(SpinResult))\n",
    "                \n",
    "        # forming a list of new edges\n",
    "        EdgeList  <- paste(NewSenders, SpinResult)\n",
    "        EdgeList <- unlist(strsplit(EdgeList,\" \"))\n",
    "                \n",
    "        # adding the new node to the network\n",
    "        network <- network + vertex(NewNodeName)\n",
    "                \n",
    "        # adding new edges to the network\n",
    "        network <- network + edges(EdgeList)\n",
    "                \n",
    "        print(paste0(\"The Node \",NewNodeName,\" was added to the Network. It formed \", m, \" new connections\"))\n",
    "        return(network)\n",
    "        \n",
    "}"
   ]
  },
  {
   "cell_type": "markdown",
   "metadata": {},
   "source": [
    "Lets try out our own function!\n",
    "\n",
    "First we need an existing network to start with.\n",
    "\n",
    "\n",
    "NOTE: in the simple function we have created, the vertices must have names and there mustn´t be\n",
    "ny unconnected nodes."
   ]
  },
  {
   "cell_type": "code",
   "execution_count": null,
   "metadata": {},
   "outputs": [],
   "source": [
    "# creating initial network to start with\n",
    "network <- graph(c(\"Bob\",\"Frank\",\"Frank\",\"Donald\",\"Donald\",\"Bob\"), directed = FALSE)\n",
    "set.seed(123)\n",
    "plot(network)"
   ]
  },
  {
   "cell_type": "markdown",
   "metadata": {},
   "source": [
    "Lets add one new node based on the Barabasi-Albert algorithm (we are overwriting the inital graph on each iteration)"
   ]
  },
  {
   "cell_type": "code",
   "execution_count": null,
   "metadata": {},
   "outputs": [],
   "source": [
    "# Adding new node and overwriting old network\n",
    "network <- BarabasiAlbert(network)\n",
    "set.seed(123)\n",
    "plot(network)"
   ]
  },
  {
   "cell_type": "markdown",
   "metadata": {},
   "source": [
    "Nice! Lets add many nodes according to the Barabasi-Albert Algorithm!"
   ]
  },
  {
   "cell_type": "code",
   "execution_count": null,
   "metadata": {},
   "outputs": [],
   "source": [
    "# number of nodes to be added\n",
    "x <- 100"
   ]
  },
  {
   "cell_type": "code",
   "execution_count": null,
   "metadata": {},
   "outputs": [],
   "source": [
    "# repeating the function x times (each time, we´re overwriting the inital network) \n",
    "for (i in 1:x) {\n",
    "        \n",
    "        set.seed(123)\n",
    "        network <- BarabasiAlbert(network)\n",
    "        plot(network)\n",
    "        \n",
    "}"
   ]
  },
  {
   "cell_type": "markdown",
   "metadata": {},
   "source": [
    "Lets check the degree distribution of our now large network"
   ]
  },
  {
   "cell_type": "code",
   "execution_count": null,
   "metadata": {},
   "outputs": [],
   "source": [
    "sort(degree(network),decreasing = T)"
   ]
  },
  {
   "cell_type": "code",
   "execution_count": null,
   "metadata": {},
   "outputs": [],
   "source": [
    "# checking the degree distribution\n",
    "hist(sort(degree(network),decreasing = T),\n",
    "     breaks = seq(-0.5,35.5,1),\n",
    "     xlab = \"Node Degree\",\n",
    "     main = \"Histogram of Node degree\")"
   ]
  },
  {
   "cell_type": "markdown",
   "metadata": {},
   "source": [
    "As we can see from the distribution of node degrees, we have a lot of nodes that have a few connections to others\n",
    "and very few nodes that have a lot of connections to others.\n",
    "\n",
    "This is a property that is also observed in many real life social networks and is very different from Erdos-Renyi graphs or the symmetric graph structures from the beginning of this notebook.\n",
    "\n",
    "With respect to the distribution of node degree, Barabasi-Albert Networks are thus a more accurate representation\n",
    "of real life social Networks than Erdos-renyi graphs."
   ]
  },
  {
   "cell_type": "markdown",
   "metadata": {},
   "source": [
    "NOTE:\n",
    "\n",
    "Our function is very basic and not optimzed. If you want to generate\n",
    "Barabasi- Albert Models in the future, igraph has a built-in function for them\n",
    "which is faster, handles exeptions a lot better and is very well documented.\n"
   ]
  },
  {
   "cell_type": "code",
   "execution_count": null,
   "metadata": {},
   "outputs": [],
   "source": [
    "# documentation\n",
    "?sample_pa()"
   ]
  },
  {
   "cell_type": "code",
   "execution_count": null,
   "metadata": {},
   "outputs": [],
   "source": [
    "# generating a graph\n",
    "g <- sample_pa(100, directed = FALSE)\n",
    "set.seed(123)\n",
    "plot(g)"
   ]
  },
  {
   "cell_type": "code",
   "execution_count": null,
   "metadata": {},
   "outputs": [],
   "source": [
    "# checking degree distribution\n",
    "sort(degree(g),decreasing = T)\n",
    "\n",
    "hist(sort(degree(g),decreasing = T),\n",
    "     breaks = seq(-0.5,35.5,1),\n",
    "     xlab = \"Node Degree\",\n",
    "     main = \"Histogram of Node degree\")"
   ]
  },
  {
   "cell_type": "markdown",
   "metadata": {},
   "source": [
    "#### Adding similarity attraction / homophily: Homophilic Attachment"
   ]
  },
  {
   "cell_type": "markdown",
   "metadata": {},
   "source": [
    "In the Barabasi algorithm, we influenced the addition of new nodes to a network\n",
    "in such a way that new nodes show a \"preference\" to connect to existing nodes\n",
    "that already have a lot of connections.\n",
    "\n",
    "From the social science perspecte, this can be seen as an operationalization of\n",
    "social proof, meaning that people tend to view other people and things more favorably\n",
    "when a lot of others already show their interest in it.\n",
    "\n",
    "Another phenomenon that could be operationalized in the addition of new nodes to a social network\n",
    "is similarity attraction. People tend to like others who are similar to them more and are more likely to\n",
    "form relationships with them.\n",
    "\n",
    "Lets see if you can implement a network generation algorithm that mimics this phenomenon."
   ]
  },
  {
   "cell_type": "code",
   "execution_count": null,
   "metadata": {},
   "outputs": [],
   "source": [
    "# lets build a very basic network to start with.\n",
    "Sender <- c(\"Johanna\",\n",
    "            \"Cindy\",\n",
    "            \"Olga\",\n",
    "            \"Fran\",\n",
    "            \"Liza\",\n",
    "            \"Cindy\")\n",
    "\n",
    "Nominees <- c(\"Cindy\",\n",
    "              \"Olga\",\n",
    "              \"Liza\",\n",
    "              \"Johanna\",\n",
    "              \"Fran\",\n",
    "              \"Fran\")\n",
    "\n",
    "network2 <- data.frame(Sender,Nominees)\n",
    "net2 <- graph.data.frame(network2, directed=F)"
   ]
  },
  {
   "cell_type": "markdown",
   "metadata": {},
   "source": [
    "Now we add some features to the nodes so that we have two different groups of vertices.\n",
    "these features could be any membership in an arbitrary social group.\n",
    "For the sake of simplicity, lets say we are looking at people with different skin color.\n",
    "\n",
    "NOTE: having colour names as the group attributes lets us use the vector directly for\n",
    "coloring the nodes in the plot and we save a step for this example"
   ]
  },
  {
   "cell_type": "code",
   "execution_count": null,
   "metadata": {},
   "outputs": [],
   "source": [
    "# adding a vertex attribute for skin color\n",
    "V(net2)$group <- c(\"black\",\"white\",\"white\",\"black\",\"white\")"
   ]
  },
  {
   "cell_type": "code",
   "execution_count": null,
   "metadata": {},
   "outputs": [],
   "source": [
    "# lets plot the network\n",
    "set.seed(123)\n",
    "plot(net2,vertex.color = V(net2)$group,vertex.label.color = \"red\",vertex.size = 30)"
   ]
  },
  {
   "cell_type": "markdown",
   "metadata": {},
   "source": [
    "What we want is an algorithm that contains a parameter for homophily attachment (h),\n",
    "which influences the likelihood of a new node making a connection to vertices in the network\n",
    "that have the same group attribute as the new vertex or a different one."
   ]
  },
  {
   "cell_type": "markdown",
   "metadata": {},
   "source": [
    "As an example: We want to have an algorithm that lets us specify the likelihood of a new black node\n",
    "making connections to smiliar (other black) nodes or different (white) nodes. We want the parameter to have such\n",
    "an influence that we can specify whether a new black node will only form connections with other black nodes (homophily; h = 1), or only form\n",
    "connections with white nodes (heterophily; h = 0), with a variable probability range in the middle."
   ]
  },
  {
   "cell_type": "markdown",
   "metadata": {},
   "source": [
    "Lets build the algorithm on top of the preferential attachment mechanism, so that we can model both processes simultaneously"
   ]
  },
  {
   "cell_type": "code",
   "execution_count": null,
   "metadata": {},
   "outputs": [],
   "source": [
    "# Lets take the Probability metric of the Barabasi-Albert algorithm as a starting point:\n",
    "EdgeFormProb <- degree(net2)/sum(degree(net2))\n",
    "EdgeFormProb "
   ]
  },
  {
   "cell_type": "markdown",
   "metadata": {},
   "source": [
    "If we only wanted preferential attachment to play a role, a new node would have the highest probability\n",
    "of forming a connection with Cindy or Fran, because they already have the most existing connections.\n",
    "\n",
    "However, we want the group attribute to play a role in the attachment probability as well.\n",
    "We thus have to change the formula for computing the Probability to take into account the group membership\n",
    "of the nodes and our homophily parameter h:\n",
    "\n",
    "We change the formula for the edge formation probability, so that we multiply the nominator with the homophily parameter\n",
    "for the attribute of the same group membership and use 1-h to multiply it with the nominator of different group memberships\n",
    "\n",
    "Lets have a look at the example network to see what that means with Fran as an example:"
   ]
  },
  {
   "cell_type": "code",
   "execution_count": null,
   "metadata": {},
   "outputs": [],
   "source": [
    "# The probability of a new node forming a connection with Fran independent from the social group is 0.25\n",
    "EdgeFormProb <- degree(net2)[\"Fran\"]/sum(degree(net2))\n",
    "EdgeFormProb "
   ]
  },
  {
   "cell_type": "code",
   "execution_count": null,
   "metadata": {},
   "outputs": [],
   "source": [
    "# lets say we add a new black node and specify h = 1 so that this node will only form connections to other black nodes\n",
    "set.seed(123)\n",
    "plot(net2 + vertex(\"Bob\"),vertex.color = c(V(net2)$group,\"black\"),vertex.label.color = \"red\",vertex.size = 30)\n",
    "h = 1"
   ]
  },
  {
   "cell_type": "markdown",
   "metadata": {},
   "source": [
    "We need to model mathematcally that the probability that the new node will form a new connection to the existing node\n",
    "is influenced by the group membership depending on the homophily parameter h"
   ]
  },
  {
   "cell_type": "code",
   "execution_count": null,
   "metadata": {},
   "outputs": [],
   "source": [
    "# We first compute the degree of all nodes in the network\n",
    "Degrees <- degree(net2)\n",
    "Degrees"
   ]
  },
  {
   "cell_type": "code",
   "execution_count": null,
   "metadata": {},
   "outputs": [],
   "source": [
    "# We now weight the degree of nodes with a similar attribute (black) by multiplying it with h\n",
    "WeightedSameGroupNodeDegrees <- Degrees[V(net2)$group == \"black\"]*h\n",
    "WeightedSameGroupNodeDegrees"
   ]
  },
  {
   "cell_type": "code",
   "execution_count": null,
   "metadata": {},
   "outputs": [],
   "source": [
    "# and weight the degree of nodes with a dissimilar attribute (white) by multiplying it with (h-1)\n",
    "WeightedOterGroupNodeDegrees <- Degrees[V(net2)$group != \"black\"]*(1-h)\n",
    "WeightedOterGroupNodeDegrees"
   ]
  },
  {
   "cell_type": "markdown",
   "metadata": {},
   "source": [
    "By multiplying in such a way with h = 1, the weighted degree fo Fran and Johanna doesn´t change while the\n",
    "weighted degree for Cindy, Olga and Liza becomes zero because h-1 = 1-1 = 0."
   ]
  },
  {
   "cell_type": "code",
   "execution_count": null,
   "metadata": {},
   "outputs": [],
   "source": [
    "# To obtain a vector of probabilities, we now put all Weighted node degrees into a vector that will represent\n",
    "# our vector of numerators\n",
    "Num <- c(WeightedSameGroupNodeDegrees,WeightedOterGroupNodeDegrees)\n",
    "Num"
   ]
  },
  {
   "cell_type": "markdown",
   "metadata": {},
   "source": [
    "We now need to compute the denominator for our probability vector:\n",
    "To do this, we multiply all degrees of nodes with the same group attribute by h\n",
    "and the degree of all nodes with a different attribute by (h-1) and sum the afterwards"
   ]
  },
  {
   "cell_type": "code",
   "execution_count": null,
   "metadata": {},
   "outputs": [],
   "source": [
    "# Computing the Denominator\n",
    "Den <- sum(Degrees[V(net2)$group == \"black\"]*h, Degrees[V(net2)$group != \"black\"]*(1-h))\n",
    "Den"
   ]
  },
  {
   "cell_type": "markdown",
   "metadata": {},
   "source": [
    "Now we can simply divide the Numerators through the denominator and have a vector of attachment\n",
    "probabilities based on preferential attachment and group membership"
   ]
  },
  {
   "cell_type": "code",
   "execution_count": null,
   "metadata": {},
   "outputs": [],
   "source": [
    "# Computing the Probabilites for attachment based on preferential attachment AND homophily (h = 1)\n",
    "EdgeFormProb <- Num/Den\n",
    "EdgeFormProb"
   ]
  },
  {
   "cell_type": "markdown",
   "metadata": {},
   "source": [
    "Note that there is a probability of zero to form connections to white nodes for h=1, only black nodes are considered.\n",
    "within the black nodes, the new node has a probability of 40% of forming a connection with Johanna but a 60% chance\n",
    "forming a connection with Fran. This difference is due to Fran having 3 connections already but Johanna just having 2.\n",
    "We have thus combined prefernetial attachment and similarity attraction in this example. "
   ]
  },
  {
   "cell_type": "code",
   "execution_count": null,
   "metadata": {},
   "outputs": [],
   "source": [
    "# Building a function that lets us play with different values of h and and display the respective edge form probabilites\n",
    "# for adding a new node.\n",
    "\n",
    "TryOutH <- function(h){\n",
    "        \n",
    "        Degrees <- degree(net2)\n",
    "        \n",
    "        WeightedSameGroupNodeDegrees <- Degrees[V(net2)$group == \"black\"]*h\n",
    "        WeightedSameGroupNodeDegrees\n",
    "        \n",
    "        WeightedOterGroupNodeDegrees <- Degrees[V(net2)$group != \"black\"]*(1-h)\n",
    "        WeightedOterGroupNodeDegrees\n",
    "        \n",
    "        Num <- c(WeightedSameGroupNodeDegrees,WeightedOterGroupNodeDegrees)\n",
    "        \n",
    "        Den <- sum(Degrees[V(net2)$group == \"black\"]*h, Degrees[V(net2)$group != \"black\"]*(1-h))\n",
    "        \n",
    "        EdgeFormProb <- Num/Den\n",
    "        \n",
    "        EdgeFormProb <- round(EdgeFormProb,3)\n",
    "        \n",
    "        set.seed(123)\n",
    "        plot(net2 + vertex(\"Bob\") + edge(\"Bob\",\"Fran\",\"Bob\",\"Johanna\",\"Bob\",\"Cindy\",\"Bob\",\"Olga\",\"Bob\",\"Liza\"),\n",
    "             vertex.color = c(V(net2)$group,\"black\"),\n",
    "             vertex.label.color = \"red\",\n",
    "             vertex.size = 30,\n",
    "             edge.lty = c(rep(1,6),rep(2,5)),\n",
    "             edge.width = c(rep(3,6),rep(1,5)),\n",
    "             edge.label = c(rep(NA,6),EdgeFormProb))\n",
    "        \n",
    "}"
   ]
  },
  {
   "cell_type": "code",
   "execution_count": null,
   "metadata": {},
   "outputs": [],
   "source": [
    "# now we can play around with different values of h and see how the edge formation probabilities change for\n",
    "# different values of h when adding a new node to the network.\n",
    "TryOutH(0.5)\n",
    "\n",
    "# Do you notice something special about the value of h = 0.5?"
   ]
  },
  {
   "cell_type": "markdown",
   "metadata": {},
   "source": [
    "Lets build a function that takes an existing network with some group attributes as input, and\n",
    "adds new nodes based on preferential attachment + homophily attachment"
   ]
  },
  {
   "cell_type": "code",
   "execution_count": null,
   "metadata": {},
   "outputs": [],
   "source": [
    "AddNewHomophilicNode <-function(network, NewNodeGroup = \"random\",h = 0.5 ,m = 2){\n",
    "        \n",
    "        # Our algorithm depends on a vertex attribute called group, so we need to check whether such an attribute exists\n",
    "        if(length(V(network)$group) == 0){\n",
    "                \n",
    "                print(\"Vertices need an attribute called group. You can assign it via V(YourNetwork)$group <- c(Your group attributes)\")\n",
    "                stop()\n",
    "        }\n",
    "        \n",
    "        # The algorithm is only meaningfull for parameters of h between 0 and 1, so we only allow h to take this range\n",
    "        if(h < 0 | h > 1){\n",
    "                \n",
    "                print(\"parameter h must be between 0 and 1\")\n",
    "                stop()\n",
    "                \n",
    "        }\n",
    "        \n",
    "        # m needs to be larger than one but smaller or equal to the number of nodes in the initial network\n",
    "        if(m < 1 | m > length(V(network))){\n",
    "                \n",
    "                print(\"m needs to be larger than one but smaller or equal to the number of nodes in the initial network\")\n",
    "                stop()\n",
    "        }\n",
    "        \n",
    "        # First, we need to generate a random name for the new node\n",
    "        NewNodeName <- randomNames(1,which.names=\"first\")\n",
    "        \n",
    "        # Then we check the validity of the name. It must not contain special characters and should not already be used\n",
    "        # in the network. If this is the case, the loop below will redraw random names until we get a valid one\n",
    "        \n",
    "        while(grepl('[^[:alnum:]]', NewNodeName) == TRUE | is.element(NewNodeName,names(V(net2))) == TRUE){\n",
    "                \n",
    "                NewNodeName <- randomNames(1,which.names=\"first\")\n",
    "                \n",
    "        }\n",
    "        \n",
    "        # adding the new node to the network\n",
    "        network <- network + vertex(NewNodeName)\n",
    "        \n",
    "        # by default, our new node is assigned to one of the groups at random.\n",
    "        # We can however also specify the group of the new node in the function ourselves\n",
    "        \n",
    "        if(NewNodeGroup == \"random\"){\n",
    "                \n",
    "                GroupingList <- unique(V(network)$group)\n",
    "                GroupingList <- GroupingList[is.na(GroupingList) == FALSE]\n",
    "                \n",
    "                grouping <- sample(GroupingList,1) \n",
    "                V(network)[NewNodeName]$group <- grouping\n",
    "                \n",
    "        } else if(NewNodeGroup != \"random\") {\n",
    "                \n",
    "                grouping <- NewNodeGroup\n",
    "                V(network)[NewNodeName]$group <- grouping\n",
    "        }\n",
    "        \n",
    "        # getting the degree of of all nodes\n",
    "        Degrees <- degree(network)\n",
    "        \n",
    "        # creating a list of numerators for all nodes (multiplying node degree with homophily parameter based on group membership of new node)\n",
    "        WeightedSameGroupNodeDegrees <- Degrees[V(network)$group == grouping]*h\n",
    "        WeightedOterGroupNodeDegrees <- Degrees[V(network)$group != grouping]*(1-h)\n",
    "        \n",
    "        Num <- c(WeightedSameGroupNodeDegrees,WeightedOterGroupNodeDegrees) \n",
    "        \n",
    "        # denominator\n",
    "        Den <- sum(Degrees[V(network)$group == grouping]*h, Degrees[V(network)$group != grouping]*(1-h))\n",
    "        \n",
    "        # Calculating connection probabilities\n",
    "        EdgeFormProb <- Num/Den\n",
    "        \n",
    "        # Using a roulette wheel algorithm to draw a weighted sample from the existing nodes to form new connections with\n",
    "        Roulette <- rep(names(EdgeFormProb),round(EdgeFormProb*100000,0))### SOMETHING GOES WRONG HERE\n",
    "        SpinResult <- sample(Roulette,m, replace = TRUE)\n",
    "        \n",
    "        # Because we could draw the same name twice now, we have to repeat the \"spin\" until we have m different names\n",
    "        while(length(SpinResult) != length(unique(SpinResult))){\n",
    "                \n",
    "                Roulette <- rep(V(network),EdgeFormProb*100)\n",
    "                SpinResult <- names(sample(Roulette,m, replace = TRUE))\n",
    "        }\n",
    "        \n",
    "        # forming a vector of edges for the node to be added\n",
    "        NewSenders <- rep(NewNodeName,length(SpinResult))\n",
    "        \n",
    "        # forming a list of new edges\n",
    "        EdgeList  <- paste(NewSenders, SpinResult)\n",
    "        EdgeList <- unlist(strsplit(EdgeList,\" \"))\n",
    "        \n",
    "        # adding new edges to the network\n",
    "        network <- network + edges(EdgeList)\n",
    "        \n",
    "        print(paste0(\"The Node \",NewNodeName,\" was added to the Network. It formed \", m, \" new connections\"))\n",
    "        return(network)\n",
    "        \n",
    "}"
   ]
  },
  {
   "cell_type": "markdown",
   "metadata": {},
   "source": [
    "Lets try out our function!"
   ]
  },
  {
   "cell_type": "code",
   "execution_count": null,
   "metadata": {},
   "outputs": [],
   "source": [
    "# Adding new Node to the network (NOTE: You are overwriting the old network)\n",
    "# NOTE: You can repeat this step as many times as you want\n",
    "\n",
    "net2 <- AddNewHomophilicNode(net2,h = 1, m = 2)\n",
    "plot(net2,vertex.color = V(net2)$group,vertex.label.color = \"red\")"
   ]
  },
  {
   "cell_type": "markdown",
   "metadata": {},
   "source": [
    "Nice! Lets add many nodes to the network!"
   ]
  },
  {
   "cell_type": "code",
   "execution_count": null,
   "metadata": {},
   "outputs": [],
   "source": [
    "# Setting number of nodes to add\n",
    "x <- 50"
   ]
  },
  {
   "cell_type": "code",
   "execution_count": null,
   "metadata": {},
   "outputs": [],
   "source": [
    "# Adding the nodes and plotting the new network\n",
    "for (i in 1:x) {\n",
    "        \n",
    "        net2 <- AddNewHomophilicNode(net2,h = 1)\n",
    "        plot(net2,vertex.color = V(net2)$group,vertex.label.color = \"red\")\n",
    "        \n",
    "}\n"
   ]
  },
  {
   "cell_type": "markdown",
   "metadata": {},
   "source": [
    "We have succesfully implemented the generation of artificial social networks according to two principles that we can observe\n",
    "in  the social sciences:\n",
    "\n",
    "- preferntial attachment\n",
    "- similarity attraction"
   ]
  }
 ],
 "metadata": {
  "kernelspec": {
   "display_name": "R",
   "language": "R",
   "name": "ir"
  },
  "language_info": {
   "codemirror_mode": "r",
   "file_extension": ".r",
   "mimetype": "text/x-r-source",
   "name": "R",
   "pygments_lexer": "r",
   "version": "3.4.3"
  }
 },
 "nbformat": 4,
 "nbformat_minor": 2
}
