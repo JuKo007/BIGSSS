{
 "cells": [
  {
   "cell_type": "markdown",
   "metadata": {},
   "source": [
    "# Granovetter Threshold Model"
   ]
  },
  {
   "cell_type": "code",
   "execution_count": null,
   "metadata": {},
   "outputs": [],
   "source": [
    "# loading igraph library\n",
    "library(igraph)"
   ]
  },
  {
   "cell_type": "markdown",
   "metadata": {},
   "source": [
    "We have had a look at how we can use algorithms to build psychological\n",
    "mechanisms of social network formation into our models.\n",
    "\n",
    "lets now have a look at how we can model the spread of information, norms,\n",
    "decisions or opinions within social networks.\n",
    "\n",
    "The most basic form of model for the spread of such information in networks is the Granovetter Threshold Model.\n",
    "Its basic idea is that each node in the network starts with one of x different attributes.  In the social sciences\n",
    "these attributes can represents norms, values, behaviors, opinions or beliefs. After the initialization of the model, the model goes through\n",
    "different rounds. In each round, each node polls its immediate neighbours and checks the proportion of neighbours that\n",
    "have a specific attribute. If the proportion of neighbours exceeds a specfic threshold t (e.g. 50%), the node will adopt the\n",
    "attribute as well.\n",
    "\n",
    "As such, the model simulates a process of majority influence."
   ]
  },
  {
   "cell_type": "code",
   "execution_count": null,
   "metadata": {},
   "outputs": [],
   "source": [
    "# lets build a very basic network to start with.\n",
    "Sender <- c(\"Bob\",\n",
    "            \"Hank\",\n",
    "            \"Mat\",\n",
    "            \"Fred\",\n",
    "            \"Homer\",\n",
    "            \"Hank\")\n",
    "\n",
    "Nominees <- c(\"Hank\",\n",
    "              \"Mat\",\n",
    "              \"Homer\",\n",
    "              \"Bob\",\n",
    "              \"Fred\",\n",
    "              \"Fred\")\n",
    "\n",
    "# building a graph object\n",
    "network2 <- data.frame(Sender,Nominees)\n",
    "net2 <- graph.data.frame(network2, directed=F)\n",
    "\n",
    "#plotting\n",
    "set.seed(123)\n",
    "plot(net2, vertex.size = 30)"
   ]
  },
  {
   "cell_type": "markdown",
   "metadata": {},
   "source": [
    "Now lets assign the vertices attributes, for example the norms they hold on a specific issue.\n",
    "\n",
    "\n",
    "Lets say we ask them if they think people should wear suits to work at university."
   ]
  },
  {
   "cell_type": "code",
   "execution_count": null,
   "metadata": {},
   "outputs": [],
   "source": [
    "# creating a norm attribute as an example\n",
    "V(net2)\n",
    "V(net2)$norm <- c(\"suits\",\"suits\",\"casual\",\"casual\",\"suits\")\n",
    "V(net2)$norm"
   ]
  },
  {
   "cell_type": "markdown",
   "metadata": {},
   "source": [
    "Lets define another vector to assign colors to the different norms"
   ]
  },
  {
   "cell_type": "code",
   "execution_count": null,
   "metadata": {},
   "outputs": [],
   "source": [
    "# suits = red\n",
    "# casual = blue\n",
    "\n",
    "V(net2)$color[V(net2)$norm == \"suits\"] <- \"red\"\n",
    "V(net2)$color[V(net2)$norm == \"casual\"] <- \"blue\""
   ]
  },
  {
   "cell_type": "code",
   "execution_count": null,
   "metadata": {},
   "outputs": [],
   "source": [
    "# lets plot the network\n",
    "set.seed(123)\n",
    "plot(net2,\n",
    "     vertex.color = V(net2)$color,\n",
    "     vertex.label.color = \"white\",\n",
    "     vertex.size = 30,\n",
    "     main = \"Norm of wearing suits or casual clothing to work at University\")\n",
    "\n",
    "# and for better understanding, lets add a legend\n",
    "legend(\"bottomleft\",\n",
    "       legend = c(\"suits\",\"casual\"),\n",
    "       col = c(\"red\",\"blue\"),\n",
    "       pch = 15,\n",
    "       bty = \"n\",\n",
    "       pt.cex = 3.5,\n",
    "       cex = 1.8 , \n",
    "       text.col = \"black\",\n",
    "       horiz = FALSE)"
   ]
  },
  {
   "cell_type": "markdown",
   "metadata": {},
   "source": [
    "We now have a graph that displays the structure of the network for five people\n",
    "and the respective norms they hold.\n",
    "\n",
    "Hank, Homer and Bob think people should wear suits while Mat and Fred think people should dress casually"
   ]
  },
  {
   "cell_type": "markdown",
   "metadata": {},
   "source": [
    "Lets say the norm evolves in the network according to a Granovetter threshold Model with t = 0.5, meaning\n",
    "that people will adopt the norm that over 50% of their contacts are displaying\n",
    "\n",
    "As an example, lets check what will happen to Hank in the Granovetter threshold model"
   ]
  },
  {
   "cell_type": "code",
   "execution_count": null,
   "metadata": {},
   "outputs": [],
   "source": [
    "# First we need to consider Hank and his neighbors\n",
    "HankEgoNet <- make_ego_graph(net2, 1, V(net2))[[2]]\n",
    "\n",
    "plot(HankEgoNet,\n",
    "     vertex.color = V(HankEgoNet)$color,\n",
    "     vertex.label.color = \"white\",\n",
    "     vertex.size = 30,\n",
    "     main = \"Ego Graph for Hank\")\n",
    "\n",
    "legend(\"bottomleft\",\n",
    "       legend = c(\"suits\",\"casual\"),\n",
    "       col = c(\"red\",\"blue\"),\n",
    "       pch = 15,\n",
    "       bty = \"n\",\n",
    "       pt.cex = 3.5,\n",
    "       cex = 1.8 , \n",
    "       text.col = \"black\",\n",
    "       horiz = FALSE)"
   ]
  },
  {
   "cell_type": "markdown",
   "metadata": {},
   "source": [
    "We can see that Hank has 3 neighbors: Mat, Fred and Bob\n",
    "\n",
    "Bob is suited up while Fred and Mat are dressing casually\n",
    "\n",
    "\n",
    "Of all of Hanks connections, 1/3 is for suits and 2/3 are for casual clothes.\n",
    "\n",
    "If we set the threshold to 0.5, Hank should switch to casual clothes because 2/3 > 0.5"
   ]
  },
  {
   "cell_type": "markdown",
   "metadata": {},
   "source": [
    "lets try to put that logic into code:"
   ]
  },
  {
   "cell_type": "code",
   "execution_count": null,
   "metadata": {},
   "outputs": [],
   "source": [
    "# lets set the threshold\n",
    "t  <- 0.5"
   ]
  },
  {
   "cell_type": "code",
   "execution_count": null,
   "metadata": {},
   "outputs": [],
   "source": [
    "# First, we need to get the names of all neighbors of Hank:\n",
    "neighbors <- unlist(adjacent_vertices(net2,2, mode = \"all\"))\n",
    "neighbors <- strsplit(names(neighbors),\".\",fixed=TRUE)\n",
    "neighbors <- sapply(neighbors,`[`,2)\n",
    "neighbors "
   ]
  },
  {
   "cell_type": "code",
   "execution_count": null,
   "metadata": {},
   "outputs": [],
   "source": [
    "# Then we need to check the attributes of all of the neighbors\n",
    "NeighborGraph <- subgraph(net2,neighbors)\n",
    "\n",
    "set.seed(123)\n",
    "plot(NeighborGraph,\n",
    "     vertex.color = V(NeighborGraph)$color,\n",
    "     vertex.label.color = \"white\",\n",
    "     vertex.size = 30,\n",
    "     main = \"Graph of all neighbors of Hank except for Hank\")\n",
    "\n",
    "V(NeighborGraph)$norm"
   ]
  },
  {
   "cell_type": "markdown",
   "metadata": {},
   "source": [
    "We need to check the norms that Hanks neighbors are displaying to him"
   ]
  },
  {
   "cell_type": "code",
   "execution_count": null,
   "metadata": {},
   "outputs": [],
   "source": [
    "# checking the norms of Hanks neighbors and converting them into a sorted proportion table\n",
    "V(NeighborGraph)$norm\n",
    "PropTable <- sort(prop.table(table(V(NeighborGraph)$norm)), decreasing = TRUE)\n",
    "PropTable"
   ]
  },
  {
   "cell_type": "markdown",
   "metadata": {},
   "source": [
    "We can ignore all proportions that are below the threshold value"
   ]
  },
  {
   "cell_type": "code",
   "execution_count": null,
   "metadata": {},
   "outputs": [],
   "source": [
    "# We can discard all elements below the threshold value\n",
    "PropTable <- PropTable[PropTable > t]\n",
    "PropTable"
   ]
  },
  {
   "cell_type": "code",
   "execution_count": null,
   "metadata": {},
   "outputs": [],
   "source": [
    "# Picking the attribute with the highest proportion from those that are above the treshold\n",
    "HanksNewNorm <- names(PropTable[1])\n",
    "HanksNewNorm"
   ]
  },
  {
   "cell_type": "markdown",
   "metadata": {},
   "source": [
    "We can see that, as desired, this code would lead to Hank adopting the norm of casual clothing"
   ]
  },
  {
   "cell_type": "markdown",
   "metadata": {},
   "source": [
    "Lets build a procedure that generalizes this mechanism to the whole network\n",
    "\n",
    "\n",
    "\n",
    "We need a function that updates the norm for a single node and then apply that functon to all nodes."
   ]
  },
  {
   "cell_type": "code",
   "execution_count": null,
   "metadata": {},
   "outputs": [],
   "source": [
    "UpdateNorm <- function (node,t = 0.5){\n",
    "        \n",
    "        # we switch off warning because R prints a useless warning for using subgraph()\n",
    "        options(warn=-1)\n",
    "        \n",
    "        # getting a vector of all neighbors of the node\n",
    "        neighbors <- unlist(adjacent_vertices(net2,node, mode = \"all\"))\n",
    "        neighbors <- strsplit(names(neighbors),\".\",fixed=TRUE)\n",
    "        neighbors <- sapply(neighbors,`[`,2) \n",
    "        \n",
    "        # building a graph object out of neighboring nodes only\n",
    "        NeighborGraph <- subgraph(net2,neighbors)\n",
    "        \n",
    "        # creating a sorted proportion table for their norm attributes\n",
    "        PropTable <- sort(prop.table(table(V(NeighborGraph)$norm)), decreasing = TRUE)\n",
    "        \n",
    "        # deleting these attributes whose proportion is not above the threshold\n",
    "        PropTable <- PropTable[PropTable > t]\n",
    "        \n",
    "        # If no attributes are above the threshold, we do nothing, if yes, then we adopt the remaining\n",
    "        # attribute with the largest proportion among the nodes' neighbors\n",
    "        if(length(PropTable) == 0){\n",
    "                \n",
    "                NewNorm <- V(net2)[node]$norm\n",
    "                \n",
    "        } else if(length(PropTable) > 0) {\n",
    "                \n",
    "                NewNorm <- names(PropTable[1])\n",
    "        }\n",
    "        \n",
    "        # we switch the warnings back on again\n",
    "        options(warn=0)\n",
    "            \n",
    "            \n",
    "        #return the vector with the updated norms\n",
    "        return(NewNorm)\n",
    "}"
   ]
  },
  {
   "cell_type": "markdown",
   "metadata": {},
   "source": [
    "Now we can update all nodes simultanously according to the Granovetter threshold Model"
   ]
  },
  {
   "cell_type": "code",
   "execution_count": null,
   "metadata": {},
   "outputs": [],
   "source": [
    "# Applying the function to all Nodes\n",
    "NewNorms <- sapply(names(V(net2)),UpdateNorm)\n",
    "NewNorms"
   ]
  },
  {
   "cell_type": "markdown",
   "metadata": {},
   "source": [
    "lets compare the updated norms to the initial network"
   ]
  },
  {
   "cell_type": "code",
   "execution_count": null,
   "metadata": {},
   "outputs": [],
   "source": [
    "# plot the network\n",
    "set.seed(123)\n",
    "plot(net2,\n",
    "     vertex.color = V(net2)$color,\n",
    "     vertex.label.color = \"white\",\n",
    "     vertex.size = 30,\n",
    "     main = \"Initial Norm of wearing suits or casual clothing to work at University\")\n",
    "\n",
    "# and for better understanding, lets add a legend\n",
    "legend(\"bottomleft\",\n",
    "       legend = c(\"suits\",\"casual\"),\n",
    "       col = c(\"red\",\"blue\"),\n",
    "       pch = 15,\n",
    "       bty = \"n\",\n",
    "       pt.cex = 3.5,\n",
    "       cex = 1.8 , \n",
    "       text.col = \"black\",\n",
    "       horiz = FALSE)"
   ]
  },
  {
   "cell_type": "markdown",
   "metadata": {},
   "source": [
    "We now need a function that takes a network as input and then updates all nodes and returns the updated network"
   ]
  },
  {
   "cell_type": "code",
   "execution_count": null,
   "metadata": {},
   "outputs": [],
   "source": [
    "# function for updateing the norms of a whole network with variable threshold parameter t\n",
    "GranoThreshRound <- function(network,t = 0.5) {\n",
    "        \n",
    "        # assigning t to the variable threshold so we can pass it down to the update function\n",
    "        threshold <- t\n",
    "        \n",
    "        # The function for updateing norms (t gets passed down from the GranoThreshRound function)\n",
    "        UpdateNorm <- function (node,threshold = 0.5){\n",
    "                \n",
    "                # we switch off warning because R prints a useless warning for using subgraph()\n",
    "                options(warn=-1)\n",
    "                \n",
    "                # getting a vector of all neighbors of the node\n",
    "                neighbors <- unlist(adjacent_vertices(network,node, mode = \"all\"))\n",
    "                neighbors <- strsplit(names(neighbors),\".\",fixed=TRUE)\n",
    "                neighbors <- sapply(neighbors,`[`,2) \n",
    "                \n",
    "                # building a rgaph bject of only the neighbors of the node\n",
    "                NeighborGraph <- subgraph(network,neighbors)\n",
    "                \n",
    "                # creating a sorted proportion table for their norm attributes\n",
    "                PropTable <- sort(prop.table(table(V(NeighborGraph)$norm)), decreasing = TRUE)\n",
    "                \n",
    "                # deleting these attributes whose proportion is not above the threshold\n",
    "                PropTable <- PropTable[PropTable > threshold]\n",
    "                \n",
    "                # If no attributes are above the threshold, we do nothing, if yes, then we adopt the remaining\n",
    "                # attribute with the largest proportion among the nodes neighbors\n",
    "                if(length(PropTable) == 0){\n",
    "                        \n",
    "                        NewNorm <- V(network)[node]$norm\n",
    "                        \n",
    "                } else if(length(PropTable) > 0) {\n",
    "                        \n",
    "                        NewNorm <- names(PropTable[1])\n",
    "                }\n",
    "                \n",
    "                # we switch the warnings back on again and return the vector with the updated norms\n",
    "                options(warn=0)\n",
    "                return(NewNorm)\n",
    "        }\n",
    "        \n",
    "        # Applying the function to all Nodes\n",
    "        NewNorms <- sapply(names(V(network)),UpdateNorm)\n",
    "        \n",
    "        # Updating the norms attributes of the input network\n",
    "        V(network)$norm <- NewNorms\n",
    "        \n",
    "        # Re-evaluating color attributes for the network\n",
    "        V(network)$color[V(network)$norm == \"suits\"] <- \"red\"\n",
    "        V(network)$color[V(network)$norm == \"casual\"] <- \"blue\"\n",
    "        \n",
    "        #returning the nework with updated norms attributes\n",
    "        return(network)\n",
    "        \n",
    "}"
   ]
  },
  {
   "cell_type": "markdown",
   "metadata": {},
   "source": [
    "lets use the function to do one iteration of the Granovetter Threshold Model"
   ]
  },
  {
   "cell_type": "code",
   "execution_count": null,
   "metadata": {},
   "outputs": [],
   "source": [
    "# applying the function\n",
    "net2AfterRound1 <- GranoThreshRound(net2)\n",
    "net2AfterRound1\n",
    "\n",
    "# inspecting update norms\n",
    "V(net2AfterRound1)\n",
    "V(net2AfterRound1)$norm"
   ]
  },
  {
   "cell_type": "markdown",
   "metadata": {},
   "source": [
    "Lets see in plots what happend after 1 iteration of the Threshold Model"
   ]
  },
  {
   "cell_type": "code",
   "execution_count": null,
   "metadata": {},
   "outputs": [],
   "source": [
    "# setting graphic parameter to display two graphs next to each other\n",
    "par(mfrow=c(1,2))\n",
    "\n",
    "# original network\n",
    "set.seed(123)\n",
    "plot(net2,\n",
    "     vertex.color = V(net2)$color,\n",
    "     vertex.label.color = \"white\",\n",
    "     vertex.size = 35,\n",
    "     main = \"Original Network\")\n",
    "\n",
    "legend(\"bottomleft\",\n",
    "       legend = c(\"suits\",\"casual\"),\n",
    "       col = c(\"red\",\"blue\"),\n",
    "       pch = 15,\n",
    "       bty = \"n\",\n",
    "       pt.cex = 3.5,\n",
    "       cex = 1.8 , \n",
    "       text.col = \"black\",\n",
    "       horiz = FALSE)\n",
    "\n",
    "# Network after one iteration\n",
    "set.seed(123)\n",
    "plot(net2AfterRound1,\n",
    "     vertex.color = V(net2AfterRound1)$color,\n",
    "     vertex.label.color = \"white\",\n",
    "     vertex.size = 35,\n",
    "     main = \"After one iteration\")\n",
    "\n",
    "legend(\"bottomleft\",\n",
    "       legend = c(\"suits\",\"casual\"),\n",
    "       col = c(\"red\",\"blue\"),\n",
    "       pch = 15,\n",
    "       bty = \"n\",\n",
    "       pt.cex = 3.5,\n",
    "       cex = 1.8 , \n",
    "       text.col = \"black\",\n",
    "       horiz = FALSE)\n",
    "\n",
    "# reverting graphic parameters\n",
    "par(mfrow = c(1,1))"
   ]
  },
  {
   "cell_type": "markdown",
   "metadata": {},
   "source": [
    "lets try with a more complex graph"
   ]
  },
  {
   "cell_type": "code",
   "execution_count": null,
   "metadata": {},
   "outputs": [],
   "source": [
    "# building graph\n",
    "\n",
    "Sender <- c(\"Bob\",\n",
    "            \"Hank\",\n",
    "            \"Mat\",\n",
    "            \"Fred\",\n",
    "            \"Homer\",\n",
    "            \"Hank\",\n",
    "            \"Ed\",\n",
    "            \"Sergej\",\n",
    "            \"Daniel\",\n",
    "            \"Daniel\",\n",
    "            \"Daniel\",\n",
    "            \"Ed\",\n",
    "            \"Sergej\")\n",
    "\n",
    "Nominees <- c(\"Hank\",\n",
    "              \"Mat\",\n",
    "              \"Homer\",\n",
    "              \"Bob\",\n",
    "              \"Fred\",\n",
    "              \"Fred\",\n",
    "              \"Hank\",\n",
    "              \"Fred\",\n",
    "              \"Bob\",\n",
    "              \"Sergej\",\n",
    "              \"Ed\",\n",
    "              \"Mat\",\n",
    "              \"Homer\")\n",
    "\n",
    "# building graph object\n",
    "network3 <- data.frame(Sender,Nominees)\n",
    "net3 <- graph.data.frame(network3, directed=F)"
   ]
  },
  {
   "cell_type": "markdown",
   "metadata": {},
   "source": [
    "plot for overview"
   ]
  },
  {
   "cell_type": "code",
   "execution_count": null,
   "metadata": {},
   "outputs": [],
   "source": [
    "# plot\n",
    "set.seed(3)\n",
    "plot(net3, vertex.size = 30)"
   ]
  },
  {
   "cell_type": "code",
   "execution_count": null,
   "metadata": {},
   "outputs": [],
   "source": [
    "# Lets assign norms again\n",
    "V(net3)$norm <- c(\"suits\",\"suits\",\"casual\",\"casual\",\"suits\",\"suits\",\"casual\",\"suits\")"
   ]
  },
  {
   "cell_type": "code",
   "execution_count": null,
   "metadata": {},
   "outputs": [],
   "source": [
    "# translate it into color attributes\n",
    "V(net3)$color[V(net3)$norm == \"suits\"] <- \"red\"\n",
    "V(net3)$color[V(net3)$norm == \"casual\"] <- \"blue\""
   ]
  },
  {
   "cell_type": "code",
   "execution_count": null,
   "metadata": {},
   "outputs": [],
   "source": [
    "# and plot the graph with norms\n",
    "set.seed(3)\n",
    "plot(net3,\n",
    "     vertex.color = V(net3)$color,\n",
    "     vertex.label.color = \"white\",\n",
    "     vertex.size = 35,\n",
    "     main = \"More complex network for spreading norms\")\n",
    "\n",
    "legend(\"bottomleft\",\n",
    "       legend = c(\"suits\",\"casual\"),\n",
    "       col = c(\"red\",\"blue\"),\n",
    "       pch = 15,\n",
    "       bty = \"n\",\n",
    "       pt.cex = 3.5,\n",
    "       cex = 1.8 , \n",
    "       text.col = \"black\",\n",
    "       horiz = FALSE)"
   ]
  },
  {
   "cell_type": "markdown",
   "metadata": {},
   "source": [
    "Lets apply the Threshold Model until the network converges onto a single norm"
   ]
  },
  {
   "cell_type": "code",
   "execution_count": null,
   "metadata": {},
   "outputs": [],
   "source": [
    "# Lets apply the Threshold model here\n",
    "net3AfterRound1 <- GranoThreshRound(net3)\n",
    "\n",
    "V(net3AfterRound1)$norm\n",
    "V(net3AfterRound1)$color"
   ]
  },
  {
   "cell_type": "code",
   "execution_count": null,
   "metadata": {},
   "outputs": [],
   "source": [
    "# and plot it\n",
    "set.seed(3)\n",
    "plot(net3AfterRound1,\n",
    "     vertex.color = V(net3AfterRound1)$color,\n",
    "     vertex.label.color = \"white\",\n",
    "     vertex.size = 35,\n",
    "     main = \"More complex network for spreading norms after 1 iteration\")\n",
    "\n",
    "legend(\"bottomleft\",\n",
    "       legend = c(\"suits\",\"casual\"),\n",
    "       col = c(\"red\",\"blue\"),\n",
    "       pch = 15,\n",
    "       bty = \"n\",\n",
    "       pt.cex = 3.5,\n",
    "       cex = 1.8 , \n",
    "       text.col = \"black\",\n",
    "       horiz = FALSE)"
   ]
  },
  {
   "cell_type": "markdown",
   "metadata": {},
   "source": [
    "We can see that Sergej, Matt and Fred changed their norm to wearing suits, while Homer changed from wearing suits to\n",
    "casual clothing\n",
    "\n",
    "Lets do another round!"
   ]
  },
  {
   "cell_type": "code",
   "execution_count": null,
   "metadata": {},
   "outputs": [],
   "source": [
    "# Threshold Model\n",
    "net3AfterRound2 <- GranoThreshRound(net3AfterRound1)\n",
    "\n",
    "V(net3AfterRound2)$norm\n",
    "V(net3AfterRound2)$color\n",
    "\n",
    "# and plot it\n",
    "set.seed(3)\n",
    "plot(net3AfterRound2,\n",
    "     vertex.color = V(net3AfterRound2)$color,\n",
    "     vertex.label.color = \"white\",\n",
    "     vertex.size = 35,\n",
    "     main = \"More complex network for spreading norms after 2 iterations\")\n",
    "\n",
    "legend(\"bottomleft\",\n",
    "       legend = c(\"suits\",\"casual\"),\n",
    "       col = c(\"red\",\"blue\"),\n",
    "       pch = 15,\n",
    "       bty = \"n\",\n",
    "       pt.cex = 3.5,\n",
    "       cex = 1.8 , \n",
    "       text.col = \"black\",\n",
    "       horiz = FALSE)"
   ]
  },
  {
   "cell_type": "markdown",
   "metadata": {},
   "source": [
    "In the next iteration, we can see that Homer switches back again from wearing casual to wearing suits.\n",
    "\n",
    "The whole network now converged on the norm of wearing suits."
   ]
  },
  {
   "cell_type": "markdown",
   "metadata": {},
   "source": [
    "Lets plot all iterations until the convergence in the same plot"
   ]
  },
  {
   "cell_type": "code",
   "execution_count": null,
   "metadata": {},
   "outputs": [],
   "source": [
    "# Lets plot all iterations in one plot to see the convergence on the suits\n",
    "\n",
    "# setting plotting parameters\n",
    "par(mfrow = c(1,3))\n",
    "\n",
    "# original graph\n",
    "set.seed(3)\n",
    "plot(net3,\n",
    "     vertex.color = V(net3)$color,\n",
    "     vertex.label.color = \"white\",\n",
    "     vertex.size = 35,\n",
    "     main = \"Original\")\n",
    "\n",
    "legend(\"bottomleft\",\n",
    "       legend = c(\"suits\",\"casual\"),\n",
    "       col = c(\"red\",\"blue\"),\n",
    "       pch = 15,\n",
    "       bty = \"n\",\n",
    "       pt.cex = 3.5,\n",
    "       cex = 1.8 , \n",
    "       text.col = \"black\",\n",
    "       horiz = FALSE)\n",
    "\n",
    "# after 1 iteration\n",
    "set.seed(3)\n",
    "plot(net3AfterRound1,\n",
    "     vertex.color = V(net3AfterRound1)$color,\n",
    "     vertex.label.color = \"white\",\n",
    "     vertex.size = 35,\n",
    "     main = \"After 1 Iteration\")\n",
    "\n",
    "legend(\"bottomleft\",\n",
    "       legend = c(\"suits\",\"casual\"),\n",
    "       col = c(\"red\",\"blue\"),\n",
    "       pch = 15,\n",
    "       bty = \"n\",\n",
    "       pt.cex = 3.5,\n",
    "       cex = 1.8 , \n",
    "       text.col = \"black\",\n",
    "       horiz = FALSE)\n",
    "\n",
    "# after 2 iterations\n",
    "set.seed(3)\n",
    "plot(net3AfterRound2,\n",
    "     vertex.color = V(net3AfterRound2)$color,\n",
    "     vertex.label.color = \"white\",\n",
    "     vertex.size = 35,\n",
    "     main = \"After 2 Iterations\")\n",
    "\n",
    "legend(\"bottomleft\",\n",
    "       legend = c(\"suits\",\"casual\"),\n",
    "       col = c(\"red\",\"blue\"),\n",
    "       pch = 15,\n",
    "       bty = \"n\",\n",
    "       pt.cex = 3.5,\n",
    "       cex = 1.8 , \n",
    "       text.col = \"black\",\n",
    "       horiz = FALSE)"
   ]
  }
 ],
 "metadata": {
  "kernelspec": {
   "display_name": "R",
   "language": "R",
   "name": "ir"
  },
  "language_info": {
   "codemirror_mode": "r",
   "file_extension": ".r",
   "mimetype": "text/x-r-source",
   "name": "R",
   "pygments_lexer": "r",
   "version": "3.4.4"
  }
 },
 "nbformat": 4,
 "nbformat_minor": 2
}
